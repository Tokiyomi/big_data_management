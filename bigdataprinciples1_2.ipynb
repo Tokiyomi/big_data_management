{
 "cells": [
  {
   "cell_type": "markdown",
   "metadata": {},
   "source": [
    "# Big Data Principles Chapter 1 and 2 - Summary\n",
    "### By Carolina Garma Escoffié\n",
    "---"
   ]
  },
  {
   "cell_type": "markdown",
   "metadata": {},
   "source": [
    "## Chapter 1. A new paradigm for Big Data"
   ]
  },
  {
   "cell_type": "markdown",
   "metadata": {},
   "source": [
    "#### 1. \n",
    "**Your boss asks you to build a simple web analytics application. Your monitory system drops you a lot of “Timeout error on inserting to the database.”  You need to do something to fix the problem, and you need to do something quickly. What's the first thing it comes to your mind?**\n",
    " > Instead of having the web server hit the database directly, you insert a queue\n",
    "between the web server and the database\n",
    "\n",
    "![r1](img/r1.JPG)"
   ]
  },
  {
   "cell_type": "markdown",
   "metadata": {},
   "source": [
    "#### 2. \n",
    "**You still having the same problem, you realize the database is clearly the bottleneck. How would you how scale a write-heavy relational database?**\n",
    " > The best approach is to use multiple database servers and spread the\n",
    "table across all the servers. Each server will have a subset of the data for the table. This\n",
    "is known as _horizontal partitioning or sharding_."
   ]
  },
  {
   "cell_type": "markdown",
   "metadata": {},
   "source": [
    "#### 3. \n",
    "**In general, what are some of the main issues of working with a heavy relational DB?**\n",
    " > Answers may vary. Some of them are timeout issues, overloading, db bottleneck, multiple servers queues, and shards, fault-tolerance issues, corruption issues..."
   ]
  },
  {
   "cell_type": "markdown",
   "metadata": {},
   "source": [
    "#### 4. \n",
    "**How Big Data techniques help?**\n",
    " > 1.  When it comes to scaling, you’ll just add nodes \n",
    "2. Immutable data\n",
    "3. You might write bad data, but at least you won’t destroy good data\n",
    "4. Much stronger human-fault tolerance guarantee"
   ]
  },
  {
   "cell_type": "markdown",
   "metadata": {},
   "source": [
    "#### 5. \n",
    "**Mention some open sources Big Data systems**\n",
    " >  1. Hadoop, \n",
    " 2. HBase, \n",
    " 3. MongoDB, \n",
    " 4. Cassandra, \n",
    " 5. RabbitMQ,"
   ]
  },
  {
   "cell_type": "markdown",
   "metadata": {},
   "source": [
    "#### 6. \n",
    "**In what kind of situations you shouldn't use Hadoop?**\n",
    " >  Hadoop, for example, can parallelize large-scale batch computations on very large\n",
    "amounts of data, but the computations have high latency. You don’t use Hadoop for\n",
    "anything where you need low-latency results. "
   ]
  },
  {
   "cell_type": "markdown",
   "metadata": {},
   "source": [
    "#### 7. \n",
    "**In what kind of situations you shouldn't use Cassandra?**\n",
    " > NoSQL databases like Cassandra achieve their scalability by offering you a much\n",
    "more limited data model than you’re used to with something like SQL. Squeezing\n",
    "your application into these limited data models can be very complex. And because the\n",
    "databases are mutable, they’re not human-fault tolerant. "
   ]
  },
  {
   "cell_type": "markdown",
   "metadata": {},
   "source": [
    "#### 8. \n",
    "**Provide a general-purpose definition for a data system**\n",
    " > query = function(all data) "
   ]
  },
  {
   "cell_type": "markdown",
   "metadata": {},
   "source": [
    "#### 9. \n",
    "**List the desired properties for a Big Data System**\n",
    " > 1. Robustness and fault tolerance\n",
    "2. Low latency reads and updates\n",
    "3. Scalability\n",
    "4. Generalization\n",
    "5. Extensibility\n",
    "6. Ad hoc queries \n",
    "7. Minimal maintenance\n",
    "8. Debuggability"
   ]
  },
  {
   "cell_type": "markdown",
   "metadata": {},
   "source": [
    "#### 10. \n",
    "**The Lambda Architecture is horizontally scalable, what does it mean?**\n",
    " > scaling is accomplished by adding more machines. "
   ]
  },
  {
   "cell_type": "markdown",
   "metadata": {},
   "source": [
    "#### 11. \n",
    "**Enumerate some problems of the fully incremental architecture**\n",
    " > 1. Operational complexity: compaction, cascading failure\n",
    "2. Extreme complexity of achieving eventual consistency\n",
    "3. Lack of human-fault tolerance"
   ]
  },
  {
   "cell_type": "markdown",
   "metadata": {},
   "source": [
    "#### 12. \n",
    "**How is the Lambda Architecture composed?**\n",
    " >  The main idea of the Lambda Architecture is to build Big Data systems as a series of\n",
    "layers, as shown in figure 1.6\n",
    "\n",
    "![r2](img/r2.JPG)"
   ]
  },
  {
   "cell_type": "markdown",
   "metadata": {},
   "source": [
    "#### 13. \n",
    "**Describe the batch layer**\n",
    " >  The portion of the Lambda Architecture that implements the batch view = function(all data) equation is called the batch layer. The batch layer stores the master copy of the dataset and precomputes batch views on that master dataset (see figure 1.8).\n",
    "\n",
    "![r3](img/r3.JPG)"
   ]
  },
  {
   "cell_type": "markdown",
   "metadata": {},
   "source": [
    "#### 14. \n",
    "**Describe the serving layer**\n",
    " >  The batch layer emits batch views as the result of its functions. The next step is to load the views somewhere so that they can be queried. This is where the serving layer comes in. The serving layer is a specialized distributed database that loads in a batch view and makes it possible to do random reads on it (see figure 1.9). When new batch views are available, the serving layer automatically swaps those in so that more up-to-date results are available. \n",
    "\n",
    "![r4](img/r4.JPG)"
   ]
  },
  {
   "cell_type": "markdown",
   "metadata": {},
   "source": [
    "#### 15. \n",
    "**Describe the speed layer**\n",
    " >  As its name suggests, its goal is to ensure new data is represented in query functions as quickly as needed for the application requirements (see figure 1.10). You can think of the speed layer as being similar to the batch layer in that it produces views based on data it receives. One big difference is that the speed layer only looks at recent data, whereas the batch layer looks at all the data at once.\n",
    "\n",
    "![r5](img/r5.JPG)"
   ]
  },
  {
   "cell_type": "markdown",
   "metadata": {},
   "source": [
    "![r6](img/r6.JPG)"
   ]
  },
  {
   "cell_type": "markdown",
   "metadata": {},
   "source": [
    "## Chapter 2. Data model for Big Data"
   ]
  },
  {
   "cell_type": "markdown",
   "metadata": {},
   "source": [
    "#### 1. \n",
    "**What does data mean according to the Big Data Model?**\n",
    " > _Data_ refers to the information that can’t be derived from anything else. Data\n",
    "serves as the axioms from which everything else derives. "
   ]
  },
  {
   "cell_type": "markdown",
   "metadata": {},
   "source": [
    "#### 2. \n",
    "**What's the difference between _views_ and _queries_?**\n",
    " > _Queries_ are questions you ask of your data. For example, you query your financial transaction history to determine your current bank account balance. \n",
    "_Views_ are information that has been derived from your base data. They are built\n",
    "to assist with answering specific types of queries. \n",
    "\n",
    "![r7](img/r7.JPG)"
   ]
  },
  {
   "cell_type": "markdown",
   "metadata": {},
   "source": [
    "#### 3. \n",
    "**Which are the key properties of data?**\n",
    " > _rawness_, _immutability_, and _perpetuity_ (or the “eternal trueness of data”)."
   ]
  },
  {
   "cell_type": "markdown",
   "metadata": {},
   "source": [
    "#### 4. \n",
    "**What is data _rawness_**\n",
    " > The more information you can deduce, the more rawer your data is and more questions you can ask of it. "
   ]
  },
  {
   "cell_type": "markdown",
   "metadata": {},
   "source": [
    "#### 5. \n",
    "**What do you do to have immutable data?**\n",
    " > Instead of updating or deleting data, you only add more. This doesn’t require an index for your data, which is a huge\n",
    "simplification.\n",
    "\n",
    "![r8](img/r8.JPG)"
   ]
  },
  {
   "cell_type": "markdown",
   "metadata": {},
   "source": [
    "#### 6. \n",
    "**How is data eternally true?**\n",
    " > The key consequence of immutability is that each piece of data is true in perpetuity.This mentality is the same as when you learned history in school. The fact _The United States consisted of thirteen states on July 4, 1776_, is always true due to the specific date; the fact that the number of states has increased since then is captured in additional (also perpetual) data. "
   ]
  },
  {
   "cell_type": "markdown",
   "metadata": {},
   "source": [
    "#### 7. \n",
    "**How is the data in the fact-based model?**\n",
    " > In the fact-based model, you deconstruct the data into fundamental units called facts —they are _atomic_, _timestamped_ and _identifiable_.  \n",
    "\n",
    "![r9](img/r9.JPG)"
   ]
  },
  {
   "cell_type": "markdown",
   "metadata": {},
   "source": [
    "#### 8. \n",
    "**What are the components of a graph schema?**\n",
    " > 1. _Nodes_: are the entities in the system. \n",
    "2. _Edges_: are relationships between nodes.\n",
    "3. _Propeties_: are information about entities.\n",
    "\n",
    "![r10](img/r10.JPG)"
   ]
  },
  {
   "cell_type": "markdown",
   "metadata": {},
   "source": [
    "## Some Aditional Resources about Big Data Risks"
   ]
  },
  {
   "cell_type": "markdown",
   "metadata": {},
   "source": [
    "#### 1. \n",
    "**Why is Big data nothing without the right infrastructure? **\n",
    " > According to Forrester reports, at least 60% of all data within an enterprise remains unused. \n",
    "A lot of what was considered big data is garbage, meaning that it is unreliable, uncleaned data that requires an extreme amount of work to be usable. And sometimes, the little information that can be found in an extremely large datasets is not worth the effort, time and costs that need to be spent to find it. \n"
   ]
  },
    {
   "cell_type": "markdown",
   "metadata": {},
   "source": [
    "#### 2. \n",
    "**Is more data always better?**\n",
    " > The quality of the data often matters more than the quantity. We want data that measures something we care about, in a reliable, consistent manner. \n"
   ]
  },
  {
   "cell_type": "markdown",
   "metadata": {},
   "source": [
    "#### References\n",
    "Marz, N., Warren, J. (2015). _Big Data: Principles and best practices of scalable real-time data systems_. Manning Publications Co. Pp.1-46\n Di Russo, J. (2020). _Bye Bye Big Data!_. Medium. Towards Data Science. Retrieved from: https://towardsdatascience.com/bye-bye-big-data-fbea187c7739"
   ]
  },
  {
   "cell_type": "code",
   "execution_count": null,
   "metadata": {},
   "outputs": [],
   "source": []
  }
 ],
 "metadata": {
  "kernelspec": {
   "display_name": "Python 3",
   "language": "python",
   "name": "python3"
  },
  "language_info": {
   "codemirror_mode": {
    "name": "ipython",
    "version": 3
   },
   "file_extension": ".py",
   "mimetype": "text/x-python",
   "name": "python",
   "nbconvert_exporter": "python",
   "pygments_lexer": "ipython3",
   "version": "3.7.1"
  }
 },
 "nbformat": 4,
 "nbformat_minor": 2
}
